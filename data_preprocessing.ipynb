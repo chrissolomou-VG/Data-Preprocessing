{
 "cells": [
  {
   "cell_type": "code",
   "execution_count": 1,
   "metadata": {},
   "outputs": [
    {
     "name": "stdout",
     "output_type": "stream",
     "text": [
      "Successfully connected to database!\n",
      "SQLite Database Version is: ('3.40.0',) and installed version 3.40.0\n"
     ]
    }
   ],
   "source": [
    "import json\n",
    "import sqlite3\n",
    "import numpy as np\n",
    "import pandas as pd\n",
    "\n",
    "try:\n",
    "  con = sqlite3.connect(database = \"data.db\")\n",
    "  cursor = con.cursor()\n",
    "  print(\"Successfully connected to database!\")\n",
    "\n",
    "  db_version = \"select sqlite_version();\"\n",
    "  cursor.execute(db_version)\n",
    "  record = cursor.fetchall()\n",
    "  print(f\"SQLite Database Version is: {record[0]} and installed version {sqlite3.sqlite_version}\")\n",
    "\n",
    "except sqlite3.Error as error:\n",
    "  raise ValueError(f\"The following error: {error}, occurred when trying to connect to database!\")"
   ]
  },
  {
   "cell_type": "code",
   "execution_count": 2,
   "metadata": {},
   "outputs": [
    {
     "name": "stdout",
     "output_type": "stream",
     "text": [
      "tblLevel\n",
      "tblLevelList\n",
      "tblLevelListSelection\n",
      "tblUser\n",
      "syncLog\n",
      "synctblUser\n",
      "synctblLevel\n",
      "synctblLevelList\n",
      "synctblLevelVersion\n",
      "synctblLevelListSelection\n",
      "tblLevelVersionScore\n",
      "tblDevSettings\n",
      "tblPlayerSettings\n",
      "tblLevelVersion\n",
      "tblLevelVersionAutoPlay\n",
      "synctblLevelVersionAutoPlay\n",
      "tblEconomy\n",
      "tblPresentType\n",
      "tblShopOffer\n",
      "tblShopOfferBooster\n",
      "synctblEconomy\n",
      "synctblPresentType\n",
      "synctblShopOffer\n",
      "synctblShopOfferBooster\n"
     ]
    }
   ],
   "source": [
    "cursor.execute(\"SELECT name FROM sqlite_master WHERE type='table';\")\n",
    "tables = cursor.fetchall()\n",
    "for table in tables:\n",
    "    print(table[0])"
   ]
  },
  {
   "cell_type": "code",
   "execution_count": 3,
   "metadata": {},
   "outputs": [],
   "source": [
    "def preprocessing_grid(data:str,cols:int,rows:int):\n",
    "    tags = set()\n",
    "    coords = []\n",
    "\n",
    "    for j in data.split(\"},\"):\n",
    "        j += \"}\"\n",
    "        j = j.split(\":{\")[1].split(\"}\")[0]\n",
    "        tags.add(j.split(\"tag\")[1].split(\",\")[0][3:-1])\n",
    "        coords.append(j)\n",
    "\n",
    "    tags = {x:i for i,x in enumerate(tags)}\n",
    "    grid = [[0 for x in range(cols)] for y in range(rows)]\n",
    "    for c in coords:\n",
    "        row = int(c.split(\"row\")[1].split(\":\")[1][0])\n",
    "        col = int(c.split(\"column\")[1].split(\":\")[1][0])\n",
    "        tag = c.split(\"tag\")[1].split(\":\")[1].split(\",\")[0][1:-1]\n",
    "        grid[row][col] = tags[tag]\n",
    "    return np.array([np.array(row) for row in grid])\n",
    "\n",
    "\n",
    "def preprocessing_mechs(data:str,mechanics,cols:int,rows:int):\n",
    "    if len(data) < 5:\n",
    "        return [[0 for x in range(cols)] for y in range(rows)]\n",
    "    coords = []\n",
    "    for j in data.split(\"},\"):\n",
    "        j += \"}\"\n",
    "        j = j.split(\":{\")[1].split(\"}\")[0]\n",
    "        coords.append(j)\n",
    "\n",
    "    grid = [[0 for x in range(cols)] for y in range(rows)]\n",
    "    for c in coords:\n",
    "        # there is an extra space in some of the coords\n",
    "        try:\n",
    "            row = int(c.split(\"row\")[1].split(\":\")[1][0])\n",
    "        except:\n",
    "            row = int(c.split(\"row\")[1:3][1].split(\":\")[1][0])\n",
    "        col = int(c.split(\"column\")[1].split(\":\")[1][0])\n",
    "        tag = c.split(\"tag\")[1].split(\":\")[1].split(\",\")[0][1:-1]\n",
    "        if tag in mechanics:\n",
    "            grid[row][col] = mechanics[tag]\n",
    "        else:\n",
    "            pass \n",
    "    return np.array([np.array(row) for row in grid])\n",
    "\n",
    "def preprocessing_colors(data:str,cols:int, rows:int):\n",
    "    if len(data) < 5:\n",
    "        return [[0 for x in range(cols)] for y in range(rows)]\n",
    "    coords = []\n",
    "    for j in data.split(\"},\"):\n",
    "        j += \"}\"\n",
    "        j = j.split(\":{\")[1].split(\"}\")[0]\n",
    "        coords.append(j)\n",
    "\n",
    "    grid = [[0 for x in range(cols)] for y in range(rows)]\n",
    "    for c in coords:\n",
    "        # there is an extra space in some of the coords\n",
    "        try:\n",
    "            row = int(c.split(\"row\")[1].split(\":\")[1][0])\n",
    "        except:\n",
    "            row = int(c.split(\"row\")[1:3][1].split(\":\")[1][0])\n",
    "        col = int(c.split(\"column\")[1].split(\":\")[1][0])\n",
    "        tag = c.split(\"tag\")[1].split(\":\")[1].split(\",\")[0][1:-1]\n",
    "        if tag.isdigit():\n",
    "            grid[row][col] = 1\n",
    "    return np.array([np.array(row) for row in grid])"
   ]
  },
  {
   "cell_type": "code",
   "execution_count": 4,
   "metadata": {},
   "outputs": [
    {
     "name": "stdout",
     "output_type": "stream",
     "text": [
      "10 exceptions occurred!\n"
     ]
    },
    {
     "data": {
      "text/plain": [
       "(1063, 3, 11, 11)"
      ]
     },
     "execution_count": 4,
     "metadata": {},
     "output_type": "execute_result"
    }
   ],
   "source": [
    "q = \"\"\" select * from tblLevelVersion\"\"\"\n",
    "df = pd.read_sql(q,con = con)\n",
    "\n",
    "with open('mechanisms.json','r') as f:\n",
    "    mechanics = json.load(f)\n",
    "\n",
    "cols = df[\"columns\"].max(); rows = df[\"rows\"].max()\n",
    "data = []\n",
    "\n",
    "exceptions = 0 \n",
    "for i in range(len(df)):\n",
    "    try:\n",
    "        grid = preprocessing_grid(df[\"boardDefinitionJSON\"][i], cols = cols, rows = rows)\n",
    "        mechs = preprocessing_mechs(df[\"pieces\"][i],mechanics, cols = cols, rows = rows)\n",
    "        colors = preprocessing_colors(df[\"pieces\"][i], cols = cols, rows = rows)\n",
    "        board = np.array([grid,mechs,colors])\n",
    "        data.append(board)\n",
    "    except Exception as e:\n",
    "        exceptions += 1 \n",
    "        # exceptions occurr because the board defintion is empty (10 instances)\n",
    "print(f\"{exceptions} exceptions occurred!\")\n",
    "data = np.array(data)\n",
    "data.shape"
   ]
  },
  {
   "cell_type": "code",
   "execution_count": 5,
   "metadata": {},
   "outputs": [
    {
     "data": {
      "text/plain": [
       "array([[0, 0, 0, 0, 0, 0, 0, 0, 0, 0, 0],\n",
       "       [0, 0, 0, 0, 0, 0, 0, 0, 0, 0, 0],\n",
       "       [0, 0, 0, 0, 0, 0, 0, 0, 0, 0, 0],\n",
       "       [0, 0, 0, 0, 0, 0, 0, 0, 0, 0, 0],\n",
       "       [0, 0, 0, 0, 0, 0, 0, 0, 0, 0, 0],\n",
       "       [0, 1, 1, 1, 1, 0, 0, 0, 0, 0, 0],\n",
       "       [0, 1, 1, 1, 1, 0, 0, 0, 0, 0, 0],\n",
       "       [0, 0, 1, 0, 0, 0, 0, 0, 0, 0, 0],\n",
       "       [0, 0, 0, 0, 0, 0, 0, 0, 0, 0, 0],\n",
       "       [0, 0, 0, 0, 0, 0, 0, 0, 0, 0, 0],\n",
       "       [0, 0, 0, 0, 0, 0, 0, 0, 0, 0, 0]])"
      ]
     },
     "execution_count": 5,
     "metadata": {},
     "output_type": "execute_result"
    }
   ],
   "source": [
    "data[15][2]"
   ]
  }
 ],
 "metadata": {
  "kernelspec": {
   "display_name": "base",
   "language": "python",
   "name": "python3"
  },
  "language_info": {
   "codemirror_mode": {
    "name": "ipython",
    "version": 3
   },
   "file_extension": ".py",
   "mimetype": "text/x-python",
   "name": "python",
   "nbconvert_exporter": "python",
   "pygments_lexer": "ipython3",
   "version": "3.8.10"
  },
  "orig_nbformat": 4,
  "vscode": {
   "interpreter": {
    "hash": "d4d1e4263499bec80672ea0156c357c1ee493ec2b1c70f0acce89fc37c4a6abe"
   }
  }
 },
 "nbformat": 4,
 "nbformat_minor": 2
}
